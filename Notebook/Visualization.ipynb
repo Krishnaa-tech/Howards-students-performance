{
 "cells": [
  {
   "cell_type": "markdown",
   "metadata": {},
   "source": [
    "Importing Libraries"
   ]
  },
  {
   "cell_type": "code",
   "execution_count": null,
   "metadata": {},
   "outputs": [],
   "source": [
    "import seaborn as sns\n",
    "import matplotlib.pyplot as plt\n",
    "import plotly.express as px \n",
    "import pandas as pd"
   ]
  },
  {
   "cell_type": "markdown",
   "metadata": {},
   "source": [
    "Loading the dataset"
   ]
  },
  {
   "cell_type": "code",
   "execution_count": null,
   "metadata": {},
   "outputs": [],
   "source": [
    "df=pd.read_csv(\"Student Info.csv\")"
   ]
  },
  {
   "cell_type": "code",
   "execution_count": null,
   "metadata": {},
   "outputs": [],
   "source": []
  },
  {
   "cell_type": "code",
   "execution_count": null,
   "metadata": {},
   "outputs": [],
   "source": [
    "good = df.loc[df.failures==0]\n",
    "poor=df.loc[df.failures>=1]\n",
    "good['good_student_mother_education'] = good.Medu\n",
    "poor['poor_student_mother_education'] = poor.Medu\n",
    "plt.figure(figsize=(6,4))\n",
    "p=sns.kdeplot(good['good_student_mother_education'], shade=True, color=\"r\")#good_student in red\n",
    "p=sns.kdeplot(poor['poor_student_mother_education'], shade=True, color=\"b\")#poor_student in blue\n",
    "plt.xlabel('Mother Education Level', fontsize=20)"
   ]
  }
 ],
 "metadata": {
  "language_info": {
   "name": "python"
  }
 },
 "nbformat": 4,
 "nbformat_minor": 2
}
