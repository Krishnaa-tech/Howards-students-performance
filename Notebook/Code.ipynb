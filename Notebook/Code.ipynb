{
 "cells": [
  {
   "cell_type": "markdown",
   "metadata": {},
   "source": [
    "># <center>Hackverse'23 - Team Hogwards\n",
    "\n",
    "---------------------------\n",
    "## <center> Code File <br>\n",
    "\n",
    "Name: \n",
    "- **KRISH GOYAL** <br>\n",
    "- <br>\n",
    "- <br>\n",
    "- <br>"
   ]
  },
  {
   "cell_type": "code",
   "execution_count": null,
   "metadata": {},
   "outputs": [],
   "source": []
  }
 ],
 "metadata": {
  "language_info": {
   "name": "python"
  }
 },
 "nbformat": 4,
 "nbformat_minor": 2
}
